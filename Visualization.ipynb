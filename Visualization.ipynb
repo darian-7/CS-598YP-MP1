{
 "cells": [
  {
   "cell_type": "markdown",
   "id": "6194a50e-155b-4b72-b2ad-3ea0c67bcc34",
   "metadata": {},
   "source": [
    "Welcome to CS598 MP1! We will be demonstrating OLA with Plotly Plots on the [Predict Future Sales](https://www.kaggle.com/competitions/competitive-data-science-predict-future-sales) dataset.\n",
    "Note: you **do not** have to modify the code in this Notebook. Once you are finished with implementing all the required OLA classes in `ola.py`, you can run the cells to verify the results - the Plotly plots should dynamically update as data is processed."
   ]
  },
  {
   "cell_type": "code",
   "execution_count": 1,
   "id": "373f79e0-173c-40b3-a6b2-ce41fa5b9e38",
   "metadata": {},
   "outputs": [],
   "source": [
    "from ola import *\n",
    "from utils import *\n",
    "\n",
    "import numpy as np\n",
    "import plotly.graph_objects as go\n",
    "import pandas as pd\n",
    "import random\n",
    "import time"
   ]
  },
  {
   "cell_type": "code",
   "execution_count": 2,
   "id": "54a32a28-62b5-4b91-a7c4-c200ede17d87",
   "metadata": {},
   "outputs": [],
   "source": [
    "# Read the dataframe. See https://www.kaggle.com/competitions/competitive-data-science-predict-future-sales for the schema.\n",
    "df = pd.read_csv(\"sales_train.csv\")"
   ]
  },
  {
   "cell_type": "code",
   "execution_count": 3,
   "id": "4afd6927-610b-4b8c-9efe-ea3b7c88533e",
   "metadata": {},
   "outputs": [],
   "source": [
    "# Split the dataframe for OLA. We will be processing 10% of the rows in the dataframe, one 20000-row slice at a time.\n",
    "df_list = sample_split_df(df, sample_percentage=0.1, slice_size=20000)"
   ]
  },
  {
   "cell_type": "markdown",
   "id": "ec21c7df-e64e-48c2-bbf8-4f62ffb21811",
   "metadata": {},
   "source": [
    "Performing OLA for computing mean (this is already implemented as an example, see ola.py):-----------------------------------"
   ]
  },
  {
   "cell_type": "code",
   "execution_count": 4,
   "id": "e552dbdd-41eb-455e-b721-b1713968d353",
   "metadata": {},
   "outputs": [
    {
     "data": {
      "application/vnd.jupyter.widget-view+json": {
       "model_id": "375a238a37b2430ebfa420708f9db3fd",
       "version_major": 2,
       "version_minor": 0
      },
      "text/plain": [
       "FigureWidget({\n",
       "    'data': [{'type': 'bar',\n",
       "              'uid': '3d95fc70-5811-4c79-ae0c-6f4166c000e1',\n",
       "              'width': 0.3,\n",
       "              'x': [wait for data],\n",
       "              'y': [0]}],\n",
       "    'layout': {'font': {'color': 'Black', 'family': 'Courier New, monospace', 'size': 18},\n",
       "               'template': '...',\n",
       "               'title': {'text': 'Average item price of transactions'},\n",
       "               'xaxis': {'title': {'text': ''}},\n",
       "               'yaxis': {'title': {'text': 'Average price'}}}\n",
       "})"
      ]
     },
     "execution_count": 4,
     "metadata": {},
     "output_type": "execute_result"
    }
   ],
   "source": [
    "avg_widget = generate_plot(\"Average item price of transactions\", \"\", \"Average price\")\n",
    "avg_widget"
   ]
  },
  {
   "cell_type": "code",
   "execution_count": 5,
   "id": "7fca76cb-243c-4ff8-8052-a1849a71ba93",
   "metadata": {},
   "outputs": [],
   "source": [
    "# Incrementally process the slices. The plot should update during the processing.\n",
    "avg_ola = AvgOla(avg_widget, \"item_price\")\n",
    "for df_slice in df_list:\n",
    "    # The sleep statement (and others below) is for observing the incremental update process. Feel free to remove it.\n",
    "    time.sleep(0.5)\n",
    "    avg_ola.process_slice(df_slice)"
   ]
  },
  {
   "cell_type": "markdown",
   "id": "472fda14-c2a4-430d-90e5-657f2e1f03b5",
   "metadata": {},
   "source": [
    "Performing OLA for computing filtered mean:-----------------------------------"
   ]
  },
  {
   "cell_type": "code",
   "execution_count": 6,
   "id": "a0bc1175-7748-469e-9df8-ede5c3512502",
   "metadata": {},
   "outputs": [
    {
     "data": {
      "application/vnd.jupyter.widget-view+json": {
       "model_id": "d4e4043946904971be80983430cc951d",
       "version_major": 2,
       "version_minor": 0
      },
      "text/plain": [
       "FigureWidget({\n",
       "    'data': [{'type': 'bar',\n",
       "              'uid': '2563b6e6-8383-409f-9c93-123d9f372bec',\n",
       "              'width': 0.3,\n",
       "              'x': [wait for data],\n",
       "              'y': [0]}],\n",
       "    'layout': {'font': {'color': 'Black', 'family': 'Courier New, monospace', 'size': 18},\n",
       "               'template': '...',\n",
       "               'title': {'text': 'Average price per transaction of item ID 22154'},\n",
       "               'xaxis': {'title': {'text': ''}},\n",
       "               'yaxis': {'title': {'text': 'Average price'}}}\n",
       "})"
      ]
     },
     "execution_count": 6,
     "metadata": {},
     "output_type": "execute_result"
    }
   ],
   "source": [
    "filter_avg_widget = generate_plot(\"Average price per transaction of item ID 22154\", \"\", \"Average price\")\n",
    "filter_avg_widget"
   ]
  },
  {
   "cell_type": "code",
   "execution_count": 7,
   "id": "4e252e0d-0d5d-4920-94df-721dbb63c418",
   "metadata": {},
   "outputs": [],
   "source": [
    "# Incrementally process the slices. The plot should update during the processing.\n",
    "filter_avg_ola = FilterAvgOla(filter_avg_widget, \"item_id\", 22154, \"item_price\")\n",
    "for df_slice in df_list:\n",
    "    time.sleep(0.5)\n",
    "    filter_avg_ola.process_slice(df_slice)"
   ]
  },
  {
   "cell_type": "markdown",
   "id": "20ccc552-b76b-4a1a-b145-93f8c53b3055",
   "metadata": {},
   "source": [
    "Performing OLA for computing grouped means:-----------------------------------"
   ]
  },
  {
   "cell_type": "code",
   "execution_count": 8,
   "id": "3fd0b3fb-4bed-4ce9-bac3-cae336dc8802",
   "metadata": {},
   "outputs": [
    {
     "data": {
      "application/vnd.jupyter.widget-view+json": {
       "model_id": "dc19b032a4f84c6cb63a5be1d16ed683",
       "version_major": 2,
       "version_minor": 0
      },
      "text/plain": [
       "FigureWidget({\n",
       "    'data': [{'type': 'bar',\n",
       "              'uid': 'd3547b4c-5740-4c8c-851e-ab6291f59429',\n",
       "              'width': 0.3,\n",
       "              'x': [wait for data],\n",
       "              'y': [0]}],\n",
       "    'layout': {'font': {'color': 'Black', 'family': 'Courier New, monospace', 'size': 18},\n",
       "               'template': '...',\n",
       "               'title': {'text': 'Average items per transaction by date block'},\n",
       "               'xaxis': {'title': {'text': 'Date Block ID'}},\n",
       "               'yaxis': {'title': {'text': 'Items per transaction'}}}\n",
       "})"
      ]
     },
     "execution_count": 8,
     "metadata": {},
     "output_type": "execute_result"
    }
   ],
   "source": [
    "group_by_avg_widget = generate_plot(\"Average items per transaction by date block\", \"Date Block ID\", \"Items per transaction\")\n",
    "group_by_avg_widget"
   ]
  },
  {
   "cell_type": "code",
   "execution_count": 9,
   "id": "7b688358-431d-4889-94d5-6396595b94b2",
   "metadata": {},
   "outputs": [],
   "source": [
    "# Incrementally process the slices. The plot should update during the processing.\n",
    "group_by_avg_ola = GroupByAvgOla(group_by_avg_widget, \"date_block_num\", \"item_cnt_day\")\n",
    "for df_slice in df_list:\n",
    "    time.sleep(0.5)\n",
    "    group_by_avg_ola.process_slice(df_slice)"
   ]
  },
  {
   "cell_type": "markdown",
   "id": "7a4ec175-32af-4f90-8f73-2913893bd0c4",
   "metadata": {},
   "source": [
    "Performing OLA for computing grouped sums:-----------------------------------"
   ]
  },
  {
   "cell_type": "code",
   "execution_count": 10,
   "id": "acc06614-a801-4957-a85b-f8e2106b629c",
   "metadata": {},
   "outputs": [
    {
     "data": {
      "application/vnd.jupyter.widget-view+json": {
       "model_id": "c4203b2115fe417ca8a75a73c7ada3f4",
       "version_major": 2,
       "version_minor": 0
      },
      "text/plain": [
       "FigureWidget({\n",
       "    'data': [{'type': 'bar',\n",
       "              'uid': 'f72a8f88-8da5-434a-a28e-09e21a432d97',\n",
       "              'width': 0.3,\n",
       "              'x': [wait for data],\n",
       "              'y': [0]}],\n",
       "    'layout': {'font': {'color': 'Black', 'family': 'Courier New, monospace', 'size': 18},\n",
       "               'template': '...',\n",
       "               'title': {'text': 'Total items sold per shop'},\n",
       "               'xaxis': {'title': {'text': 'Shop ID'}},\n",
       "               'yaxis': {'title': {'text': 'Items sold'}}}\n",
       "})"
      ]
     },
     "execution_count": 10,
     "metadata": {},
     "output_type": "execute_result"
    }
   ],
   "source": [
    "group_by_sum_widget = generate_plot(\"Total items sold per shop\", \"Shop ID\", \"Items sold\")\n",
    "group_by_sum_widget"
   ]
  },
  {
   "cell_type": "code",
   "execution_count": 11,
   "id": "b91fd8d7-3e8a-423b-a7db-4340e1580beb",
   "metadata": {},
   "outputs": [],
   "source": [
    "# Incrementally process the slices. The plot should update during the processing.\n",
    "group_by_sum_ola = GroupBySumOla(group_by_sum_widget, len(df), \"shop_id\", \"item_cnt_day\")\n",
    "for df_slice in df_list:\n",
    "    time.sleep(0.5)\n",
    "    group_by_sum_ola.process_slice(df_slice)"
   ]
  },
  {
   "cell_type": "markdown",
   "id": "f6f0bb5a-21e6-439e-a5a6-b94ed0a69748",
   "metadata": {},
   "source": [
    "Performing OLA for computing grouped counts:-----------------------------------"
   ]
  },
  {
   "cell_type": "code",
   "execution_count": 20,
   "id": "02ee1334-abb6-49bf-87e4-7d05cc61ff05",
   "metadata": {},
   "outputs": [
    {
     "data": {
      "application/vnd.jupyter.widget-view+json": {
       "model_id": "a7155883f9d442c2a92c52142bc9f233",
       "version_major": 2,
       "version_minor": 0
      },
      "text/plain": [
       "FigureWidget({\n",
       "    'data': [{'type': 'bar',\n",
       "              'uid': '582678eb-12c4-426c-9101-51bafbdaa51a',\n",
       "              'width': 0.3,\n",
       "              'x': [wait for data],\n",
       "              'y': [0]}],\n",
       "    'layout': {'font': {'color': 'Black', 'family': 'Courier New, monospace', 'size': 18},\n",
       "               'template': '...',\n",
       "               'title': {'text': 'Total transactions per shop'},\n",
       "               'xaxis': {'title': {'text': 'Shop ID'}},\n",
       "               'yaxis': {'title': {'text': 'Total transactions'}}}\n",
       "})"
      ]
     },
     "execution_count": 20,
     "metadata": {},
     "output_type": "execute_result"
    }
   ],
   "source": [
    "group_by_count_widget = generate_plot(\"Total transactions per shop\", \"Shop ID\", \"Total transactions\")\n",
    "group_by_count_widget"
   ]
  },
  {
   "cell_type": "markdown",
   "id": "3ede550e-184b-49be-b525-62459849ff22",
   "metadata": {},
   "source": [
    "Performing OLA for computing filtered distinct counts:-----------------------------------"
   ]
  },
  {
   "cell_type": "code",
   "execution_count": 23,
   "id": "dce377e4-5615-4407-915d-fd13a7099f71",
   "metadata": {},
   "outputs": [
    {
     "ename": "TypeError",
     "evalue": "__init__() takes 4 positional arguments but 5 were given",
     "output_type": "error",
     "traceback": [
      "\u001b[0;31m---------------------------------------------------------------------------\u001b[0m",
      "\u001b[0;31mTypeError\u001b[0m                                 Traceback (most recent call last)",
      "Cell \u001b[0;32mIn[23], line 2\u001b[0m\n\u001b[1;32m      1\u001b[0m \u001b[38;5;66;03m# Incrementally process the slices. The plot should update during the processing.\u001b[39;00m\n\u001b[0;32m----> 2\u001b[0m group_by_count_ola \u001b[38;5;241m=\u001b[39m \u001b[43mGroupByCountOla\u001b[49m\u001b[43m(\u001b[49m\u001b[43mgroup_by_count_widget\u001b[49m\u001b[43m,\u001b[49m\u001b[43m \u001b[49m\u001b[38;5;28;43mlen\u001b[39;49m\u001b[43m(\u001b[49m\u001b[43mdf\u001b[49m\u001b[43m)\u001b[49m\u001b[43m,\u001b[49m\u001b[43m \u001b[49m\u001b[38;5;124;43m\"\u001b[39;49m\u001b[38;5;124;43mshop_id\u001b[39;49m\u001b[38;5;124;43m\"\u001b[39;49m\u001b[43m,\u001b[49m\u001b[43m \u001b[49m\u001b[38;5;124;43m\"\u001b[39;49m\u001b[38;5;124;43mitem_cnt_day\u001b[39;49m\u001b[38;5;124;43m\"\u001b[39;49m\u001b[43m)\u001b[49m\n\u001b[1;32m      3\u001b[0m \u001b[38;5;28;01mfor\u001b[39;00m df_slice \u001b[38;5;129;01min\u001b[39;00m df_list:\n\u001b[1;32m      4\u001b[0m     time\u001b[38;5;241m.\u001b[39msleep(\u001b[38;5;241m0.5\u001b[39m)\n",
      "\u001b[0;31mTypeError\u001b[0m: __init__() takes 4 positional arguments but 5 were given"
     ]
    }
   ],
   "source": [
    "# Incrementally process the slices. The plot should update during the processing.\n",
    "group_by_count_ola = GroupByCountOla(group_by_count_widget, len(df), \"shop_id\", \"item_cnt_day\")\n",
    "for df_slice in df_list:\n",
    "    time.sleep(0.5)\n",
    "    group_by_count_ola.process_slice(df_slice)\n",
    "\n",
    "\n",
    "# group_by_count_ola = GroupByCountOla(len(df), \"shop_id\")\n",
    "\n",
    "# for df_slice in df_list:\n",
    "#     group_by_count_ola.process_slice(df_slice)\n",
    "\n",
    "# # After processing all slices\n",
    "# group_by_count_ola.print_results()\n"
   ]
  },
  {
   "cell_type": "code",
   "execution_count": 15,
   "id": "b8fa5db3-3d24-4d70-9429-2497454bdc57",
   "metadata": {},
   "outputs": [
    {
     "data": {
      "application/vnd.jupyter.widget-view+json": {
       "model_id": "ea27e2be172f407985da3679c5d8190e",
       "version_major": 2,
       "version_minor": 0
      },
      "text/plain": [
       "FigureWidget({\n",
       "    'data': [{'type': 'bar',\n",
       "              'uid': '48d6d27a-3bf5-423b-a98c-b5adfff9e74f',\n",
       "              'width': 0.3,\n",
       "              'x': [wait for data],\n",
       "              'y': [0]}],\n",
       "    'layout': {'font': {'color': 'Black', 'family': 'Courier New, monospace', 'size': 18},\n",
       "               'template': '...',\n",
       "               'title': {'text': 'Number of distinct items sold in shop ID 10'},\n",
       "               'xaxis': {'title': {'text': ''}},\n",
       "               'yaxis': {'title': {'text': 'Number of distinct items'}}}\n",
       "})"
      ]
     },
     "execution_count": 15,
     "metadata": {},
     "output_type": "execute_result"
    }
   ],
   "source": [
    "filter_distinct_widget = generate_plot(\"Number of distinct items sold in shop ID 10\", \"\", \"Number of distinct items\")\n",
    "filter_distinct_widget"
   ]
  },
  {
   "cell_type": "code",
   "execution_count": 16,
   "id": "367808ef-9b7d-4fa8-90b5-01a047041460",
   "metadata": {},
   "outputs": [],
   "source": [
    "# Incrementally process the slices. The plot should update during the processing.\n",
    "filter_distinct_ola = FilterDistinctOla(filter_distinct_widget, \"shop_id\", 10, \"item_id\")\n",
    "for df_slice in df_list:\n",
    "    time.sleep(0.5)\n",
    "    filter_distinct_ola.process_slice(df_slice)"
   ]
  }
 ],
 "metadata": {
  "kernelspec": {
   "display_name": "Python 3.8.18 64-bit",
   "language": "python",
   "name": "python3"
  },
  "language_info": {
   "codemirror_mode": {
    "name": "ipython",
    "version": 3
   },
   "file_extension": ".py",
   "mimetype": "text/x-python",
   "name": "python",
   "nbconvert_exporter": "python",
   "pygments_lexer": "ipython3",
   "version": "3.8.18"
  },
  "vscode": {
   "interpreter": {
    "hash": "5b6e8fba36db23bc4d54e0302cd75fdd75c29d9edcbab68d6cfc74e7e4b30305"
   }
  }
 },
 "nbformat": 4,
 "nbformat_minor": 5
}
